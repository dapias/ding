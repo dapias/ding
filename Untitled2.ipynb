{
 "metadata": {
  "name": "",
  "signature": "sha256:c03353bb1b5ba5ea2b6f42be6dd5791992a06f722ff175115dc7c9cb82c33f12"
 },
 "nbformat": 3,
 "nbformat_minor": 0,
 "worksheets": [
  {
   "cells": [
    {
     "cell_type": "code",
     "collapsed": false,
     "input": [
      "%run dingdef.py"
     ],
     "language": "python",
     "metadata": {},
     "outputs": [
      {
       "output_type": "stream",
       "stream": "stdout",
       "text": [
        "[Part\u00edcula(-10.0,-3.82683613171), Oscilador(-5.0,1.19172160804,1.03027525323,10.0), Part\u00edcula(0.0,1.84518257484), Oscilador(5.0,1.09508991463,1.56792623306,10.0), Part\u00edcula(10.0,-0.663993952901)]\n",
        "1"
       ]
      },
      {
       "output_type": "stream",
       "stream": "stdout",
       "text": [
        " 1.30656234757 [Part\u00edcula(-15.0,3.92697080314), Oscilador(-3.80929303783,1.19172160804,14.0958987289,10.0), Part\u00edcula(2.41084607667,1.84518257484), Oscilador(5.96292461932,1.09508991463,14.6335497087,10.0), Part\u00edcula(9.13245050213,-0.663993952901)]\n",
        "2"
       ]
      },
      {
       "output_type": "stream",
       "stream": "stdout",
       "text": [
        " 2.16053608457 [Part\u00edcula(-11.6464700681,3.92697080314), Oscilador(-5.71597304251,1.19172160804,22.635636099,10.0), Part\u00edcula(3.98658353557,-4.14980689084), Oscilador(3.98658352648,1.03007763598,-1.39069380552,10.0), Part\u00edcula(8.56541710482,-0.663993952901)]\n",
        "3"
       ]
      },
      {
       "output_type": "stream",
       "stream": "stdout",
       "text": [
        " 3.94890717944 [Part\u00edcula(-4.62358899343,-11.3071444201), Oscilador(-4.62358899895,0.543963453366,0.764226047114,10.0), Part\u00edcula(-3.43481115726,-4.14980689084), Oscilador(4.27187593252,1.03007763598,16.4930171431,10.0), Part\u00edcula(7.37794951229,-0.663993952901)]\n",
        "4"
       ]
      },
      {
       "output_type": "stream",
       "stream": "stdout",
       "text": [
        " 4.42044097491 [Part\u00edcula(-9.95528971784,-11.3071444201), Oscilador(-5.39158534799,0.570568187923,-2.38519246689,10.0), Part\u00edcula(-5.391585351,3.77567416287), Oscilador(5.72647522495,1.03007763598,21.2083550979,10.0), Part\u00edcula(7.0648539235,-0.663993952901)]\n",
        "5"
       ]
      },
      {
       "output_type": "stream",
       "stream": "stdout",
       "text": [
        " 4.86659343346 [Part\u00edcula(-15.0,5.55663392557), Oscilador(-4.50080126039,0.570568187923,2.07633211858,10.0), Part\u00edcula(-3.70705904056,3.77567416287), Oscilador(5.52706962799,1.03007763598,25.6698796834,10.0), Part\u00edcula(6.76861138895,-0.663993952901)]\n",
        "6"
       ]
      },
      {
       "output_type": "stream",
       "stream": "stdout",
       "text": [
        " 6.1756748218 [Part\u00edcula(-7.72591394626,5.55663392557), Oscilador(-4.70625050221,0.570568187923,15.1671460019,10.0), Part\u00edcula(1.23560573446,3.77567416287), Oscilador(5.89938926695,0.901836977061,1.64448983754,10.0), Part\u00edcula(5.89938926325,5.02154241892)]\n",
        "7"
       ]
      },
      {
       "output_type": "stream",
       "stream": "stdout",
       "text": [
        " 6.75454995799 [Part\u00edcula(-4.50931672582,-2.91166600305), Oscilador(-4.50931673359,0.74130417088,0.723375904124,10.0), Part\u00edcula(3.42124962971,3.77567416287), Oscilador(5.82318486148,0.901836977061,7.43324119948,10.0), Part\u00edcula(8.8062353149,5.02154241892)]\n",
        "8"
       ]
      },
      {
       "output_type": "stream",
       "stream": "stdout",
       "text": [
        " 7.02198158199 [Part\u00edcula(-5.28798829357,-2.91166600305), Oscilador(-5.18777916101,0.74130417088,3.39769214416,10.0), Part\u00edcula(4.43098430279,-6.99664967752), Oscilador(4.43098430066,0.682887999555,-0.984958121188,10.0), Part\u00edcula(10.149154559,5.02154241892)]\n",
        "9"
       ]
      },
      {
       "output_type": "stream",
       "stream": "stdout",
       "text": [
        " 7.04737945239 [Part\u00edcula(-5.36193840935,-6.46940844002), Oscilador(-5.36193841759,0.464518468156,-2.24825358964,10.0), Part\u00edcula(4.25328430107,-6.99664967752), Oscilador(4.5441045508,0.682887999555,-0.730979417221,10.0), Part\u00edcula(10.2766910425,5.02154241892)]\n",
        "10"
       ]
      },
      {
       "output_type": "stream",
       "stream": "stdout",
       "text": [
        " 7.98798864443 [Part\u00edcula(-11.4471234551,-6.46940844002), Oscilador(-4.64356520348,0.464518468156,7.15783833078,10.0), Part\u00edcula(-2.3278286991,-6.99664967752), Oscilador(5.46531574522,0.682887999555,8.6751125032,10.0), Part\u00edcula(15.0,-1.3275066625)]\n"
       ]
      }
     ],
     "prompt_number": 1
    },
    {
     "cell_type": "code",
     "collapsed": false,
     "input": [
      "print sim.registro_velocidades[\"Particula1\"], len(sim.registro_velocidades[\"Particula1\"])"
     ],
     "language": "python",
     "metadata": {},
     "outputs": [
      {
       "output_type": "stream",
       "stream": "stdout",
       "text": [
        "[ -3.82683613   3.9269708    3.9269708  -11.30714442 -11.30714442\n",
        "   5.55663393   5.55663393  -2.911666    -2.911666    -6.46940844] 10\n"
       ]
      }
     ],
     "prompt_number": 4
    },
    {
     "cell_type": "code",
     "collapsed": false,
     "input": [
      "print sim.t_eventos, len(sim.t_eventos), sim.t_eventos[-2]"
     ],
     "language": "python",
     "metadata": {},
     "outputs": [
      {
       "output_type": "stream",
       "stream": "stdout",
       "text": [
        "[0.0, 1.3065623475663748, 2.1605360845749217, 3.9489071794368478, 4.4204409749145093, 4.8665934334620093, 6.175674821795722, 6.7545499579891164, 7.021981581992363, 7.047379452389035, 7.987988644430926] 11 7.04737945239\n"
       ]
      }
     ],
     "prompt_number": 7
    },
    {
     "cell_type": "code",
     "collapsed": false,
     "input": [
      "print sim.t_eventos[1:-1],len(sim.t_eventos[1:-1])"
     ],
     "language": "python",
     "metadata": {},
     "outputs": [
      {
       "output_type": "stream",
       "stream": "stdout",
       "text": [
        "[1.3065623475663748, 2.1605360845749217, 3.9489071794368478, 4.4204409749145093, 4.8665934334620093, 6.175674821795722, 6.7545499579891164, 7.021981581992363, 7.047379452389035] 9\n"
       ]
      }
     ],
     "prompt_number": 24
    },
    {
     "cell_type": "code",
     "collapsed": false,
     "input": [
      "sim.t_eventos[-1]"
     ],
     "language": "python",
     "metadata": {},
     "outputs": [
      {
       "metadata": {},
       "output_type": "pyout",
       "prompt_number": 11,
       "text": [
        "7.987988644430926"
       ]
      }
     ],
     "prompt_number": 11
    },
    {
     "cell_type": "code",
     "collapsed": false,
     "input": [
      "len(sim.particulas)"
     ],
     "language": "python",
     "metadata": {},
     "outputs": [
      {
       "metadata": {},
       "output_type": "pyout",
       "prompt_number": 12,
       "text": [
        "3"
       ]
      }
     ],
     "prompt_number": 12
    },
    {
     "cell_type": "code",
     "collapsed": false,
     "input": [
      "v_particula_i = sim.registro_velocidades[\"Particula1\"]"
     ],
     "language": "python",
     "metadata": {},
     "outputs": [],
     "prompt_number": 13
    },
    {
     "cell_type": "code",
     "collapsed": false,
     "input": [
      "len(v_particula_i)"
     ],
     "language": "python",
     "metadata": {},
     "outputs": [
      {
       "metadata": {},
       "output_type": "pyout",
       "prompt_number": 14,
       "text": [
        "10"
       ]
      }
     ],
     "prompt_number": 14
    },
    {
     "cell_type": "code",
     "collapsed": false,
     "input": [
      "deltaEs1 = []\n",
      "\n",
      "for i in xrange(len(v_particula_i)-1):\n",
      "    deltaE_j = (v_particula_i[i+1]**2 - v_particula_i[i]**2)*0.5\n",
      "    deltaEs1.append(deltaE_j)"
     ],
     "language": "python",
     "metadata": {},
     "outputs": [],
     "prompt_number": 15
    },
    {
     "cell_type": "code",
     "collapsed": false,
     "input": [
      "len(deltaEs1), deltaEs1"
     ],
     "language": "python",
     "metadata": {},
     "outputs": [
      {
       "metadata": {},
       "output_type": "pyout",
       "prompt_number": 18,
       "text": [
        "(9,\n",
        " [0.38821245485559164,\n",
        "  0.0,\n",
        "  56.215207623770389,\n",
        "  0.0,\n",
        "  -48.487667176730561,\n",
        "  0.0,\n",
        "  -11.199190834712979,\n",
        "  0.0,\n",
        "  16.687723325254215])"
       ]
      }
     ],
     "prompt_number": 18
    },
    {
     "cell_type": "code",
     "collapsed": false,
     "input": [
      " flujo1 = [np.sum(deltaEs1[0:i+1]) for i in xrange(len(deltaEs1))]/np.array(sim.t_eventos[1:-1])"
     ],
     "language": "python",
     "metadata": {},
     "outputs": [],
     "prompt_number": 26
    },
    {
     "cell_type": "code",
     "collapsed": false,
     "input": [
      "flujo1"
     ],
     "language": "python",
     "metadata": {},
     "outputs": [
      {
       "metadata": {},
       "output_type": "pyout",
       "prompt_number": 22,
       "text": [
        "[0.38821245485559164,\n",
        " 0.38821245485559164,\n",
        " 56.60342007862598,\n",
        " 56.60342007862598,\n",
        " 8.1157529018954193,\n",
        " 8.1157529018954193,\n",
        " -3.0834379328175592,\n",
        " -3.0834379328175592,\n",
        " 13.604285392436655]"
       ]
      }
     ],
     "prompt_number": 22
    },
    {
     "cell_type": "code",
     "collapsed": false,
     "input": [
      "sim.t_eventos[1:-1]"
     ],
     "language": "python",
     "metadata": {},
     "outputs": [
      {
       "metadata": {},
       "output_type": "pyout",
       "prompt_number": 28,
       "text": [
        "[1.3065623475663748,\n",
        " 2.1605360845749217,\n",
        " 3.9489071794368478,\n",
        " 4.4204409749145093,\n",
        " 4.8665934334620093,\n",
        " 6.175674821795722,\n",
        " 6.7545499579891164,\n",
        " 7.021981581992363,\n",
        " 7.047379452389035]"
       ]
      }
     ],
     "prompt_number": 28
    },
    {
     "cell_type": "code",
     "collapsed": false,
     "input": [
      "flujo1"
     ],
     "language": "python",
     "metadata": {},
     "outputs": [
      {
       "metadata": {},
       "output_type": "pyout",
       "prompt_number": 27,
       "text": [
        "array([  0.29712509,   0.17968339,  14.33394545,  12.80492611,\n",
        "         1.66764555,   1.31414835,  -0.45649791,  -0.43911222,   1.93040342])"
       ]
      }
     ],
     "prompt_number": 27
    },
    {
     "cell_type": "code",
     "collapsed": false,
     "input": [
      "np.sum(deltaEs1)/sim.t_eventos[-2]"
     ],
     "language": "python",
     "metadata": {},
     "outputs": [
      {
       "metadata": {},
       "output_type": "pyout",
       "prompt_number": 31,
       "text": [
        "1.9304034193624771"
       ]
      }
     ],
     "prompt_number": 31
    },
    {
     "cell_type": "code",
     "collapsed": false,
     "input": [
      "flujo1[-3:]"
     ],
     "language": "python",
     "metadata": {},
     "outputs": [
      {
       "metadata": {},
       "output_type": "pyout",
       "prompt_number": 32,
       "text": [
        "array([-0.45649791, -0.43911222,  1.93040342])"
       ]
      }
     ],
     "prompt_number": 32
    },
    {
     "cell_type": "code",
     "collapsed": false,
     "input": [
      "flujo1 -1"
     ],
     "language": "python",
     "metadata": {},
     "outputs": [
      {
       "metadata": {},
       "output_type": "pyout",
       "prompt_number": 33,
       "text": [
        "array([ -0.70287491,  -0.82031661,  13.33394545,  11.80492611,\n",
        "         0.66764555,   0.31414835,  -1.45649791,  -1.43911222,   0.93040342])"
       ]
      }
     ],
     "prompt_number": 33
    },
    {
     "cell_type": "code",
     "collapsed": false,
     "input": [
      "from dingdef import crear_particulas_aleatorias, Reservorio, Caja, ReglasColision, Simulacion, plot_datos\n",
      "import numpy as np\n",
      "from matplotlib import pyplot as plt\n",
      "\n",
      "\n",
      "frecuencia =  10.\n",
      "num_total = 5\n",
      "reservorio = Reservorio()\n",
      "caja = Caja(np.float((num_total - 1.)/2.))\n",
      "lista = crear_particulas_aleatorias(caja.tamano,num_total,frecuencia,reservorio)\n",
      "reglas = ReglasColision(caja, reservorio)\n",
      "sim = Simulacion(lista, reglas)\n",
      "imprimir = 0\n",
      "steps = 20\n",
      "n = 10\n",
      "\n",
      "sim.run(steps, imprimir)\n",
      "#plot_datos(sim, num_total, frecuencia, 0)\n",
      "\n",
      "\n",
      "v_particula_i = sim.registro_velocidades[\"Particula1\"]\n",
      "tiempo_eventos = sim.t_eventos\n",
      "v_particula_d = sim.registro_velocidades[\"Particula\" + str(len(sim.particulas))]\n",
      "\n",
      "deltaEs1 = []\n",
      "\n",
      "for i in xrange(len(v_particula_i)-1):\n",
      "    deltaE_j = (v_particula_i[i+1]**2 - v_particula_i[i]**2)*0.5\n",
      "    deltaEs1.append(deltaE_j)\n",
      "\n",
      "flujo_promedio1 =  np.sum(deltaEs1)/tiempo_eventos[-2]\n",
      "print flujo_promedio1\n",
      "\n",
      "deltaEs2 = []\n",
      "\n",
      "for i in xrange(len(v_particula_d)-1):\n",
      "    deltaE_j = (v_particula_d[i+1]**2 - v_particula_d[i]**2)*0.5\n",
      "    deltaEs2.append(deltaE_j)\n",
      "\n",
      "flujo_promedio2 =  np.sum(deltaEs2)/tiempo_eventos[-2]\n",
      "print flujo_promedio2\n",
      "\n",
      "# Vamos  a eliminar los primeros n datos\n",
      "flujo1 = [np.sum(deltaEs1[n:n+i+1]) for i in xrange(len(tiempo_eventos[n+1:-1]))]/np.array(tiempo_eventos[n+1:-1] - tiempo_eventos[n])\n",
      "flujo2 = [np.sum(deltaEs2[n:n+i+1]) for i in xrange(len(tiempo_eventos[n+1:-1]))]/np.array(tiempo_eventos[n+1:-1]- tiempo_eventos[n])\n",
      "\n",
      "numero_eventos = np.arange(len(flujo1))\n",
      "\n",
      "plt.figure()\n",
      "plt.plot(numero_eventos, flujo1, '-o')\n",
      "plt.plot(numero_eventos, flujo2, '-o')\n",
      "plt.show()"
     ],
     "language": "python",
     "metadata": {},
     "outputs": [
      {
       "output_type": "stream",
       "stream": "stdout",
       "text": [
        "[Part\u00edcula(-2.0,2.26191119181), Oscilador(-1.0,0.932328741536,1.21444489097,10.0), Part\u00edcula(0.0,1.12461809196), Oscilador(1.0,0.785319910465,2.18516452535,10.0), Part\u00edcula(2.0,0.420754525544)]\n",
        "0.0398906944544"
       ]
      },
      {
       "output_type": "stream",
       "stream": "stdout",
       "text": [
        "\n",
        "0.674850231406\n"
       ]
      }
     ],
     "prompt_number": 49
    },
    {
     "cell_type": "code",
     "collapsed": false,
     "input": [
      "flujo1 = [np.sum(deltaEs1[n:n+i+2]) for i in xrange(len(tiempo_eventos[n+1:-1]))]\n",
      "deltaEs1[10:],len(flujo1), flujo1"
     ],
     "language": "python",
     "metadata": {},
     "outputs": [
      {
       "metadata": {},
       "output_type": "pyout",
       "prompt_number": 69,
       "text": [
        "([-2.4473314315331995,\n",
        "  0.0,\n",
        "  0.0,\n",
        "  0.0,\n",
        "  3.5429463616432706,\n",
        "  0.0,\n",
        "  -2.2222884039066475,\n",
        "  0.0,\n",
        "  0.0],\n",
        " 9,\n",
        " [-2.4473314315331995,\n",
        "  -2.4473314315331995,\n",
        "  -2.4473314315331995,\n",
        "  1.0956149301100711,\n",
        "  1.0956149301100711,\n",
        "  -1.1266734737965765,\n",
        "  -1.1266734737965765,\n",
        "  -1.1266734737965765,\n",
        "  -1.1266734737965765])"
       ]
      }
     ],
     "prompt_number": 69
    },
    {
     "cell_type": "code",
     "collapsed": false,
     "input": [
      "np.average(flujo1)"
     ],
     "language": "python",
     "metadata": {},
     "outputs": [
      {
       "metadata": {},
       "output_type": "pyout",
       "prompt_number": 70,
       "text": [
        "-1.0730509255073071"
       ]
      }
     ],
     "prompt_number": 70
    },
    {
     "cell_type": "code",
     "collapsed": false,
     "input": [
      "deltaEs1[10:20]"
     ],
     "language": "python",
     "metadata": {},
     "outputs": [
      {
       "metadata": {},
       "output_type": "pyout",
       "prompt_number": 60,
       "text": [
        "[-2.4473314315331995,\n",
        " 0.0,\n",
        " 0.0,\n",
        " 0.0,\n",
        " 3.5429463616432706,\n",
        " 0.0,\n",
        " -2.2222884039066475,\n",
        " 0.0,\n",
        " 0.0]"
       ]
      }
     ],
     "prompt_number": 60
    },
    {
     "cell_type": "code",
     "collapsed": false,
     "input": [
      "tiempo_eventos[n+1:-1] - tiempo_eventos[n+1]"
     ],
     "language": "python",
     "metadata": {},
     "outputs": [
      {
       "metadata": {},
       "output_type": "pyout",
       "prompt_number": 64,
       "text": [
        "array([ 0.        ,  0.14531691,  0.24435234,  0.38648583,  0.71717118,\n",
        "        0.76833657,  0.96488815,  1.01264214,  1.02192904])"
       ]
      }
     ],
     "prompt_number": 64
    },
    {
     "cell_type": "code",
     "collapsed": false,
     "input": [
      "np.sum(deltaEs1[10:11])"
     ],
     "language": "python",
     "metadata": {},
     "outputs": [
      {
       "metadata": {},
       "output_type": "pyout",
       "prompt_number": 66,
       "text": [
        "-2.4473314315331995"
       ]
      }
     ],
     "prompt_number": 66
    },
    {
     "cell_type": "code",
     "collapsed": false,
     "input": [
      "deltaEs1[10:12]\n"
     ],
     "language": "python",
     "metadata": {},
     "outputs": [
      {
       "metadata": {},
       "output_type": "pyout",
       "prompt_number": 68,
       "text": [
        "[-2.4473314315331995, 0.0]"
       ]
      }
     ],
     "prompt_number": 68
    },
    {
     "cell_type": "code",
     "collapsed": false,
     "input": [],
     "language": "python",
     "metadata": {},
     "outputs": []
    }
   ],
   "metadata": {}
  }
 ]
}