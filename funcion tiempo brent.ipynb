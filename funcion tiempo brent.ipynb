{
 "metadata": {
  "name": "",
  "signature": "sha256:c05c13b30d36e19f6436647698779290178801acaf992c2ed1bb4adee325e641"
 },
 "nbformat": 3,
 "nbformat_minor": 0,
 "worksheets": [
  {
   "cells": [
    {
     "cell_type": "code",
     "collapsed": false,
     "input": [
      "\n",
      "import numpy as np\n",
      "import random\n",
      "from matplotlib import pyplot as plt\n"
     ],
     "language": "python",
     "metadata": {},
     "outputs": [],
     "prompt_number": 1
    },
    {
     "cell_type": "code",
     "collapsed": false,
     "input": [
      "class Oscilador(object):\n",
      "    \"\"\"clase Oscilador que recibe amplitud, fase, frecuencia y posici\u00f3n inicial\"\"\"\n",
      "\n",
      "    def __init__(self, equilibrio, amplitud, fase, omega):\n",
      "        self.a = amplitud\n",
      "        self.fase = fase\n",
      "        self.omega = omega\n",
      "        self.equilibrio = equilibrio\n",
      "        self.x = equilibrio\n",
      "        self.tiempos_colisiones = [0.]\n",
      "#        self.posiciones = [self.a*np.sin(self.fase) + self.equilibrio]\n",
      "        self.tiempos_eventos = [0.]\n",
      "        \n",
      "\n",
      "    def __repr__(self):\n",
      "        return \"Oscilador(%s,%s,%s,%s)\"%(self.x,self.a,self.fase,self.omega)\n",
      "        \n",
      "\n",
      "    def movimiento(self,delta_t):\n",
      "        self.x = self.a* np.sin(self.omega*delta_t + self.fase) + self.equilibrio\n",
      "        \n",
      "       \n",
      "\n",
      "class Particula_libre(object):\n",
      "    \n",
      "    \"\"\" Recibe posici\u00f3n y velocidad inicial\"\"\"\n",
      "    def __init__(self,x,v,etiqueta = 0):            \n",
      "       self.x = x\n",
      "       self.v = v\n",
      "       self.tiempos_eventos = []\n",
      "       self.tiempos_colisiones = [0.]\n",
      "       self.etiqueta = etiqueta\n",
      "       self.velocidades_colisiones = [v]\n",
      "    def __repr__(self):\n",
      "        return \"Part\u00edcula(%s,%s)\"%(self.x,self.v)\n",
      "        \n",
      "    def movimiento(self,delta_t):\n",
      "        self.x += delta_t * self.v\n",
      "    "
     ],
     "language": "python",
     "metadata": {},
     "outputs": [],
     "prompt_number": 2
    },
    {
     "cell_type": "code",
     "collapsed": false,
     "input": [
      "particula1 = Particula_libre(1.25614378156,-1.5983986562)\n",
      "oscilador =  Oscilador(1.,0.366433236673,0.774024694982,10.0)\n",
      "#Part\u00edcula(1.25614378156,-1.5983986562), Oscilador(1.25614378156,0.366433236673,0.774024694982,10.0)"
     ],
     "language": "python",
     "metadata": {},
     "outputs": [],
     "prompt_number": 3
    },
    {
     "cell_type": "code",
     "collapsed": false,
     "input": [
      "x = particula1.x\n",
      "v = particula1.v\n",
      "w = oscilador.omega\n",
      "A = oscilador.a\n",
      "f = oscilador.fase\n",
      "eq = oscilador.equilibrio"
     ],
     "language": "python",
     "metadata": {},
     "outputs": [],
     "prompt_number": 4
    },
    {
     "cell_type": "code",
     "collapsed": false,
     "input": [
      "def r(t):\n",
      "    return A*np.sin(w*t + f)  + eq - v*t-x"
     ],
     "language": "python",
     "metadata": {},
     "outputs": [],
     "prompt_number": 5
    },
    {
     "cell_type": "code",
     "collapsed": false,
     "input": [
      "if x > (eq + A):\n",
      "            if v > 0:\n",
      "                t_nuevo = float('inf') \n",
      "            else:\n",
      "                t_nuevo = abs((eq + A- x)/v)\n",
      "\n",
      "\n",
      "\n",
      "elif x < (eq - A) :\n",
      "            if v < 0:\n",
      "                t_nuevo = float('inf') \n",
      "            else:\n",
      "                t_nuevo = abs((eq - A - x)/v) \n",
      "\n",
      "else:\n",
      "    t_nuevo = 0.\n",
      "    t_minimo = (np.arccos(v/(A*w)) - f)/w\n",
      "\n",
      "periodo = (2*np.pi)/(w)\n",
      "\n",
      "t_nuevo, t_minimo, periodo, periodo - t_minimo"
     ],
     "language": "python",
     "metadata": {},
     "outputs": [
      {
       "metadata": {},
       "output_type": "pyout",
       "prompt_number": 1010,
       "text": [
        "(0.0, 0.12481481528133165, 0.6283185307179586, 0.50350371543662698)"
       ]
      }
     ],
     "prompt_number": 1010
    },
    {
     "cell_type": "code",
     "collapsed": false,
     "input": [
      "t_minimo = (np.arccos(0.) - f)/w\n",
      "periodo = np.pi/w\n",
      "\n",
      "#while t_minimo < 0.:\n",
      " #   t_minimo += periodo\n",
      "    \n",
      "f,periodo, t_minimo                                      "
     ],
     "language": "python",
     "metadata": {},
     "outputs": [
      {
       "metadata": {},
       "output_type": "pyout",
       "prompt_number": 810,
       "text": [
        "(0.774024694982, 0.3141592653589793, 0.079677163181289659)"
       ]
      }
     ],
     "prompt_number": 810
    },
    {
     "cell_type": "code",
     "collapsed": false,
     "input": [],
     "language": "python",
     "metadata": {},
     "outputs": [],
     "prompt_number": 847
    },
    {
     "cell_type": "code",
     "collapsed": false,
     "input": [
      "if t_minimo > 0:\n",
      "    t_minimo = t_minimo % periodo\n",
      "else:\n",
      "    while t_minimo < 0.:\n",
      "        t_minimo += periodo\n",
      "t_minimo"
     ],
     "language": "python",
     "metadata": {},
     "outputs": [
      {
       "metadata": {},
       "output_type": "pyout",
       "prompt_number": 1011,
       "text": [
        "0.12481481528133165"
       ]
      }
     ],
     "prompt_number": 1011
    },
    {
     "cell_type": "code",
     "collapsed": false,
     "input": [
      "if 0 < t_minimo < t_nuevo:\n",
      "    a = t_nuevo\n",
      "    t_nuevo = 1e-7\n",
      "    t_minimo = t_minimo\n",
      "t_nuevo, t_minimo"
     ],
     "language": "python",
     "metadata": {},
     "outputs": [
      {
       "metadata": {},
       "output_type": "pyout",
       "prompt_number": 1012,
       "text": [
        "(0.0, 0.12481481528133165)"
       ]
      }
     ],
     "prompt_number": 1012
    },
    {
     "cell_type": "code",
     "collapsed": false,
     "input": [
      "m = np.ceil((t_nuevo-t_minimo)/(periodo))\n",
      "if m < 0.:\n",
      "    m = 0.\n",
      "m"
     ],
     "language": "python",
     "metadata": {},
     "outputs": [
      {
       "metadata": {},
       "output_type": "pyout",
       "prompt_number": 1013,
       "text": [
        "-0"
       ]
      }
     ],
     "prompt_number": 1013
    },
    {
     "cell_type": "code",
     "collapsed": false,
     "input": [
      "t2 = t_nuevo\n",
      "t3 = t_minimo + periodo * m\n",
      "t2,t3"
     ],
     "language": "python",
     "metadata": {},
     "outputs": [
      {
       "metadata": {},
       "output_type": "pyout",
       "prompt_number": 1015,
       "text": [
        "(0.0, 0.12481481528133165)"
       ]
      }
     ],
     "prompt_number": 1015
    },
    {
     "cell_type": "code",
     "collapsed": false,
     "input": [
      "sign(r(t2)), sign(r(t3))"
     ],
     "language": "python",
     "metadata": {},
     "outputs": [
      {
       "metadata": {},
       "output_type": "pyout",
       "prompt_number": 1005,
       "text": [
        "(1, 1)"
       ]
      }
     ],
     "prompt_number": 1005
    },
    {
     "cell_type": "code",
     "collapsed": false,
     "input": [
      "brent(r,t2,t3)"
     ],
     "language": "python",
     "metadata": {},
     "outputs": [
      {
       "ename": "ValueError",
       "evalue": "Root is not bracketed",
       "output_type": "pyerr",
       "traceback": [
        "\u001b[1;31m---------------------------------------------------------------------------\u001b[0m\n\u001b[1;31mValueError\u001b[0m                                Traceback (most recent call last)",
        "\u001b[1;32m<ipython-input-1006-d4bc651a86f3>\u001b[0m in \u001b[0;36m<module>\u001b[1;34m()\u001b[0m\n\u001b[1;32m----> 1\u001b[1;33m \u001b[0mbrent\u001b[0m\u001b[1;33m(\u001b[0m\u001b[0mr\u001b[0m\u001b[1;33m,\u001b[0m\u001b[0mt2\u001b[0m\u001b[1;33m,\u001b[0m\u001b[0mt3\u001b[0m\u001b[1;33m)\u001b[0m\u001b[1;33m\u001b[0m\u001b[0m\n\u001b[0m",
        "\u001b[1;32m<ipython-input-990-a0433c47b9db>\u001b[0m in \u001b[0;36mbrent\u001b[1;34m(f, a, b, tol)\u001b[0m\n\u001b[0;32m      3\u001b[0m     \u001b[0mf1\u001b[0m \u001b[1;33m=\u001b[0m \u001b[0mf\u001b[0m\u001b[1;33m(\u001b[0m\u001b[0mx1\u001b[0m\u001b[1;33m)\u001b[0m\u001b[1;33m\u001b[0m\u001b[0m\n\u001b[0;32m      4\u001b[0m     \u001b[0mf2\u001b[0m \u001b[1;33m=\u001b[0m \u001b[0mf\u001b[0m\u001b[1;33m(\u001b[0m\u001b[0mx2\u001b[0m\u001b[1;33m)\u001b[0m\u001b[1;33m\u001b[0m\u001b[0m\n\u001b[1;32m----> 5\u001b[1;33m     \u001b[1;32mif\u001b[0m \u001b[0mf1\u001b[0m\u001b[1;33m*\u001b[0m\u001b[0mf2\u001b[0m \u001b[1;33m>\u001b[0m \u001b[1;36m0.0\u001b[0m\u001b[1;33m:\u001b[0m \u001b[1;32mraise\u001b[0m \u001b[0mValueError\u001b[0m\u001b[1;33m(\u001b[0m\u001b[1;34m\"Root is not bracketed\"\u001b[0m\u001b[1;33m)\u001b[0m\u001b[1;33m\u001b[0m\u001b[0m\n\u001b[0m\u001b[0;32m      6\u001b[0m     \u001b[0mx3\u001b[0m \u001b[1;33m=\u001b[0m \u001b[1;36m0.5\u001b[0m\u001b[1;33m*\u001b[0m\u001b[1;33m(\u001b[0m\u001b[0ma\u001b[0m \u001b[1;33m+\u001b[0m \u001b[0mb\u001b[0m\u001b[1;33m)\u001b[0m\u001b[1;33m\u001b[0m\u001b[0m\n\u001b[0;32m      7\u001b[0m     \u001b[1;32mfor\u001b[0m \u001b[0mi\u001b[0m \u001b[1;32min\u001b[0m \u001b[0mrange\u001b[0m\u001b[1;33m(\u001b[0m\u001b[1;36m30\u001b[0m\u001b[1;33m)\u001b[0m\u001b[1;33m:\u001b[0m\u001b[1;33m\u001b[0m\u001b[0m\n",
        "\u001b[1;31mValueError\u001b[0m: Root is not bracketed"
       ]
      }
     ],
     "prompt_number": 1006
    },
    {
     "cell_type": "code",
     "collapsed": false,
     "input": [
      "def sign(number):return cmp(number,0)\n",
      "\n",
      "t_nuevo = t2\n",
      "for i in xrange(5):\n",
      "    if i == 0:\n",
      "        t2 = t2\n",
      "        t3 = t3\n",
      "    elif i % 2 == 0 and i != 0: \n",
      "        t2 = t3\n",
      "        t3 = t_nuevo + (i-1)*periodo\n",
      "\n",
      "    else:\n",
      "        t2 = t3\n",
      "        t3 = (2*np.pi - w*t3 - 2*f)/w + (i-1)*periodo\n",
      "\n",
      "\n",
      "\n",
      "    g = sign(r(t2))\n",
      "    h = sign(r(t3))\n",
      "\n",
      "    if g !=h:\n",
      "        tiempo = brent(r,t2,t3)\n",
      "        break\n",
      "\n",
      "            \n",
      "tiempo"
     ],
     "language": "python",
     "metadata": {},
     "outputs": [
      {
       "metadata": {},
       "output_type": "pyout",
       "prompt_number": 1008,
       "text": [
        "0.3052131218479916"
       ]
      }
     ],
     "prompt_number": 1008
    },
    {
     "cell_type": "code",
     "collapsed": false,
     "input": [
      "(2*np.pi - w*t_minimo - 2*f)/w"
     ],
     "language": "python",
     "metadata": {},
     "outputs": [
      {
       "metadata": {},
       "output_type": "pyout",
       "prompt_number": 986,
       "text": [
        "0.34869877644022701"
       ]
      }
     ],
     "prompt_number": 986
    },
    {
     "cell_type": "code",
     "collapsed": false,
     "input": [
      "t = np.arange(0,1.30,0.001)"
     ],
     "language": "python",
     "metadata": {},
     "outputs": [],
     "prompt_number": 987
    },
    {
     "cell_type": "code",
     "collapsed": false,
     "input": [
      "def r2(t):\n",
      "    A*w*np.cos(w*t + f) - v\n",
      "    "
     ],
     "language": "python",
     "metadata": {},
     "outputs": [],
     "prompt_number": 988
    },
    {
     "cell_type": "code",
     "collapsed": false,
     "input": [
      "plt.plot(t,A*w*np.cos(w*t + f) - v)\n",
      "plt.show()"
     ],
     "language": "python",
     "metadata": {},
     "outputs": [],
     "prompt_number": 989
    },
    {
     "cell_type": "code",
     "collapsed": false,
     "input": [
      "plt.plot(t, r(t))\n",
      "plt.plot(t, -v*t + A*np.sin(w*t + f) + eq - x)\n",
      "plt.plot(t, -v*t + A + eq -x)\n",
      "plt.plot(t, -v*t - A + eq -x)\n",
      "plt.show()"
     ],
     "language": "python",
     "metadata": {},
     "outputs": [],
     "prompt_number": 1009
    },
    {
     "cell_type": "code",
     "collapsed": false,
     "input": [
      "def brent(f,a,b,tol=1.0e-10):\n",
      "    x1 = a; x2 = b;\n",
      "    f1 = f(x1)\n",
      "    f2 = f(x2)\n",
      "    if f1*f2 > 0.0: raise ValueError(\"Root is not bracketed\")\n",
      "    x3 = 0.5*(a + b)\n",
      "    for i in range(30):\n",
      "        f3 = f(x3)\n",
      "        if abs(f3) < tol: return x3\n",
      "    # Tighten the brackets on the root\n",
      "        if f1*f3 < 0.0: b = x3\n",
      "        else: a = x3\n",
      "        if (b - a) < tol*max(abs(b),1.0): return 0.5*(a + b)\n",
      "    # Try quadratic interpolation\n",
      "        denom = (f2 - f1)*(f3 - f1)*(f2 - f3)\n",
      "        numer = x3*(f1 - f2)*(f2 - f3 + f1) + f2*x1*(f2 - f3) + f1*x2*(f3 - f1)\n",
      "    # If division by zero, push x out of bounds\n",
      "        try: dx = f3*numer/denom\n",
      "        except ZeroDivisionError: dx = b - a\n",
      "        x = x3 + dx\n",
      "    # If iterpolation goes out of bounds, use bisection\n",
      "        if (b - x)*(x - a) < 0.0:\n",
      "            dx = 0.5*(b - a)\n",
      "            x = a + dx\n",
      "    # Let x3 <-- x & choose new x1 and x2 so that x1 < x3 < x2\n",
      "        if x < x3:\n",
      "            x2 = x3; f2 = f3\n",
      "        else:\n",
      "            x1 = x3; f1 = f3\n",
      "        x3 = x\n",
      "    print \"Too many iterations in brent\"\n"
     ],
     "language": "python",
     "metadata": {},
     "outputs": [],
     "prompt_number": 6
    },
    {
     "cell_type": "code",
     "collapsed": false,
     "input": [
      "def f(x):\n",
      "    return x*abs(np.cos(x)) - 1"
     ],
     "language": "python",
     "metadata": {},
     "outputs": [],
     "prompt_number": 7
    },
    {
     "cell_type": "code",
     "collapsed": false,
     "input": [
      "brent(f,0,4)"
     ],
     "language": "python",
     "metadata": {},
     "outputs": [
      {
       "metadata": {},
       "output_type": "pyout",
       "prompt_number": 8,
       "text": [
        "2.0739328091023288"
       ]
      }
     ],
     "prompt_number": 8
    },
    {
     "cell_type": "code",
     "collapsed": false,
     "input": [
      "brent(f,4,0)"
     ],
     "language": "python",
     "metadata": {},
     "outputs": [
      {
       "metadata": {},
       "output_type": "pyout",
       "prompt_number": 11,
       "text": [
        "3.0"
       ]
      }
     ],
     "prompt_number": 11
    },
    {
     "cell_type": "code",
     "collapsed": false,
     "input": [
      "sign(0)"
     ],
     "language": "python",
     "metadata": {},
     "outputs": [
      {
       "metadata": {},
       "output_type": "pyout",
       "prompt_number": 358,
       "text": [
        "0"
       ]
      }
     ],
     "prompt_number": 358
    },
    {
     "cell_type": "code",
     "collapsed": false,
     "input": [
      "    "
     ],
     "language": "python",
     "metadata": {},
     "outputs": []
    }
   ],
   "metadata": {}
  }
 ]
}